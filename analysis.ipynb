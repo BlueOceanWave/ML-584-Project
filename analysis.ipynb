{
 "cells": [
  {
   "cell_type": "code",
   "execution_count": 48,
   "metadata": {},
   "outputs": [],
   "source": [
    "import pandas as pd\n",
    "import numpy as np\n",
    "from datetime import date"
   ]
  },
  {
   "cell_type": "code",
   "execution_count": 49,
   "metadata": {},
   "outputs": [],
   "source": [
    "# constants\n",
    "FILE_PATH = \"cars.csv\""
   ]
  },
  {
   "cell_type": "markdown",
   "metadata": {},
   "source": [
    "## Data\n",
    "\n",
    "This dataset was retrieved from [kaggle](https://www.kaggle.com/datasets/juanmerinobermejo/us-sales-cars-dataset). It provides comprehensive information about used cars available for sale in the United States. The dataset contains the following key attributes:\n",
    "\n",
    "- **Brand:** The brand or manufacturer of the car.\n",
    "- **Model:** The specific model of the car.\n",
    "- **Mileage:** The number of miles the car has been driven.\n",
    "- **Year:** The manufacturing year of the car.\n",
    "- **Status:** Indicates whether the car is new, used, or certified pre-owned.\n",
    "- **Dealer:** Information about the dealer or seller offering the car.\n",
    "- **Price:** The listed price of the car in USD."
   ]
  },
  {
   "cell_type": "code",
   "execution_count": 50,
   "metadata": {},
   "outputs": [
    {
     "data": {
      "text/html": [
       "<div>\n",
       "<style scoped>\n",
       "    .dataframe tbody tr th:only-of-type {\n",
       "        vertical-align: middle;\n",
       "    }\n",
       "\n",
       "    .dataframe tbody tr th {\n",
       "        vertical-align: top;\n",
       "    }\n",
       "\n",
       "    .dataframe thead th {\n",
       "        text-align: right;\n",
       "    }\n",
       "</style>\n",
       "<table border=\"1\" class=\"dataframe\">\n",
       "  <thead>\n",
       "    <tr style=\"text-align: right;\">\n",
       "      <th></th>\n",
       "      <th>Brand</th>\n",
       "      <th>Model</th>\n",
       "      <th>Year</th>\n",
       "      <th>Status</th>\n",
       "      <th>Mileage</th>\n",
       "      <th>Dealer</th>\n",
       "      <th>Price</th>\n",
       "    </tr>\n",
       "  </thead>\n",
       "  <tbody>\n",
       "    <tr>\n",
       "      <th>0</th>\n",
       "      <td>Mazda</td>\n",
       "      <td>CX-5</td>\n",
       "      <td>2023</td>\n",
       "      <td>New</td>\n",
       "      <td>NaN</td>\n",
       "      <td>NaN</td>\n",
       "      <td>36703.0</td>\n",
       "    </tr>\n",
       "    <tr>\n",
       "      <th>1</th>\n",
       "      <td>Kia</td>\n",
       "      <td>Sportage</td>\n",
       "      <td>2023</td>\n",
       "      <td>New</td>\n",
       "      <td>NaN</td>\n",
       "      <td>Classic Kia</td>\n",
       "      <td>28990.0</td>\n",
       "    </tr>\n",
       "    <tr>\n",
       "      <th>2</th>\n",
       "      <td>Chevrolet</td>\n",
       "      <td>Camaro</td>\n",
       "      <td>2024</td>\n",
       "      <td>New</td>\n",
       "      <td>NaN</td>\n",
       "      <td>Classic Chevrolet Beaumont</td>\n",
       "      <td>41425.0</td>\n",
       "    </tr>\n",
       "    <tr>\n",
       "      <th>3</th>\n",
       "      <td>Ford</td>\n",
       "      <td>Bronco</td>\n",
       "      <td>2023</td>\n",
       "      <td>Used</td>\n",
       "      <td>1551.0</td>\n",
       "      <td>Mike Smith Chrysler Dodge Jeep RAM</td>\n",
       "      <td>58900.0</td>\n",
       "    </tr>\n",
       "    <tr>\n",
       "      <th>4</th>\n",
       "      <td>Acura</td>\n",
       "      <td>TLX</td>\n",
       "      <td>2021</td>\n",
       "      <td>Used</td>\n",
       "      <td>30384.0</td>\n",
       "      <td>Mike Smith Nissan</td>\n",
       "      <td>34499.0</td>\n",
       "    </tr>\n",
       "  </tbody>\n",
       "</table>\n",
       "</div>"
      ],
      "text/plain": [
       "       Brand     Model  Year Status  Mileage  \\\n",
       "0      Mazda      CX-5  2023    New      NaN   \n",
       "1        Kia  Sportage  2023    New      NaN   \n",
       "2  Chevrolet    Camaro  2024    New      NaN   \n",
       "3       Ford    Bronco  2023   Used   1551.0   \n",
       "4      Acura       TLX  2021   Used  30384.0   \n",
       "\n",
       "                               Dealer    Price  \n",
       "0                                 NaN  36703.0  \n",
       "1                         Classic Kia  28990.0  \n",
       "2          Classic Chevrolet Beaumont  41425.0  \n",
       "3  Mike Smith Chrysler Dodge Jeep RAM  58900.0  \n",
       "4                   Mike Smith Nissan  34499.0  "
      ]
     },
     "execution_count": 50,
     "metadata": {},
     "output_type": "execute_result"
    }
   ],
   "source": [
    "df = pd.read_csv(FILE_PATH, encoding=\"utf-16\")\n",
    "df.head()"
   ]
  },
  {
   "cell_type": "markdown",
   "metadata": {},
   "source": [
    "## Preprocessing the Data\n",
    "\n",
    "To clean the data we will:\n",
    "1. data cleaning\n",
    "2. data transformation\n",
    "3. feature reduction "
   ]
  },
  {
   "cell_type": "code",
   "execution_count": 51,
   "metadata": {},
   "outputs": [
    {
     "name": "stdout",
     "output_type": "stream",
     "text": [
      "Total Rows: 51793\n"
     ]
    },
    {
     "data": {
      "text/plain": [
       "Brand       0.00%\n",
       "Model       0.00%\n",
       "Year        0.00%\n",
       "Status      0.00%\n",
       "Mileage    55.63%\n",
       "Dealer      0.20%\n",
       "Price       2.22%\n",
       "dtype: object"
      ]
     },
     "execution_count": 51,
     "metadata": {},
     "output_type": "execute_result"
    }
   ],
   "source": [
    "row_count = len(df)\n",
    "print(f\"Total Rows: {len(df)}\")\n",
    "df.isnull().sum().map(lambda sum: f\"{sum / row_count:.2%}\")"
   ]
  },
  {
   "cell_type": "markdown",
   "metadata": {},
   "source": [
    "### Missing Values\n",
    "The statistics above indicate the percentage of missing data under each column. Many of the rows are missing entries for mileage."
   ]
  },
  {
   "cell_type": "code",
   "execution_count": 52,
   "metadata": {},
   "outputs": [
    {
     "name": "stdout",
     "output_type": "stream",
     "text": [
      "Rows with missing mileage: 22981\n",
      "Rows with new status and missing mileage: 28811\n"
     ]
    }
   ],
   "source": [
    "print(f\"Rows with missing mileage: {df.Mileage.count()}\")\n",
    "print(f\"Rows with new status and missing mileage: {df[(df.Status == 'New') & (df.Mileage.isna())].Status.count()}\")"
   ]
  },
  {
   "cell_type": "markdown",
   "metadata": {},
   "source": [
    "Replace the mileage to `0` of rows with new status and missing mileage then drop the rest NAs."
   ]
  },
  {
   "cell_type": "code",
   "execution_count": 53,
   "metadata": {},
   "outputs": [
    {
     "name": "stdout",
     "output_type": "stream",
     "text": [
      "Total Rows: 50540\n"
     ]
    }
   ],
   "source": [
    "df.loc[(df['Status'] == 'New') & (df['Mileage'].isna()), 'Mileage'] = 0\n",
    "df = df.dropna()\n",
    "print(f\"Total Rows: {len(df)}\")"
   ]
  },
  {
   "cell_type": "markdown",
   "metadata": {},
   "source": [
    "### Remove duplicates"
   ]
  },
  {
   "cell_type": "code",
   "execution_count": 54,
   "metadata": {},
   "outputs": [
    {
     "name": "stdout",
     "output_type": "stream",
     "text": [
      "Total Rows: 49536\n"
     ]
    }
   ],
   "source": [
    "df = df.drop_duplicates()\n",
    "print(f\"Total Rows: {len(df)}\")"
   ]
  },
  {
   "cell_type": "markdown",
   "metadata": {},
   "source": [
    "### Data Transformation / Normalization\n",
    "- we should scale certain features (like year to age)\n",
    "- we should check for any typos or inconsistencies in text"
   ]
  },
  {
   "cell_type": "code",
   "execution_count": 55,
   "metadata": {},
   "outputs": [],
   "source": [
    "df[\"Age\"] = date.today().year - df.Year"
   ]
  },
  {
   "cell_type": "code",
   "execution_count": 56,
   "metadata": {},
   "outputs": [
    {
     "name": "stdout",
     "output_type": "stream",
     "text": [
      "new,\tused,\tcertified,\t"
     ]
    }
   ],
   "source": [
    "df.Status = df.Status.apply(lambda status: status.lower())\n",
    "for status in df.Status.unique():\n",
    "    print(status, end=\",\\t\")"
   ]
  },
  {
   "cell_type": "code",
   "execution_count": 57,
   "metadata": {},
   "outputs": [
    {
     "name": "stdout",
     "output_type": "stream",
     "text": [
      "kia,\tchevrolet,\tford,\tacura,\tvolkswagen,\tgmc,\tbmw,\thyundai,\tjeep,\tdodge,\tinfiniti,\thonda,\tlexus,\ttoyota,\tcadillac,\tbuick,\tmazda,\tlincoln,\tmercury,\tmini,\tram,\tland rover,\taudi,\tnissan,\tmercedes,\tporsche,\tsubaru,\tjaguar,\tmaserati,\talfa romeo,\ttesla,\tbentley,\tgenesis,\tvolvo,\tchrysler,\tmitsubishi,\tfiat,\trivian,\taston martin,\tlamborghini,\thummer,\tsaturn,\trolls-royce,\tferrari,\tpolestar,\tlucid,\tscion,\tpontiac,\tkarma,\tsmart,\tmclaren,\tlotus,\tsaab,\tmaybach,\tsuzuki,\tinternational scout,\tgeo,\toldsmobile,\tisuzu,\t"
     ]
    }
   ],
   "source": [
    "df.Brand = df.Brand.apply(lambda brand: brand.lower())\n",
    "for brand in df.Brand.unique():\n",
    "    print(brand, end=\",\\t\")"
   ]
  },
  {
   "cell_type": "code",
   "execution_count": 58,
   "metadata": {},
   "outputs": [
    {
     "name": "stdout",
     "output_type": "stream",
     "text": [
      "sportage,\tcamaro,\tbronco,\ttlx,\tgolf,\tyukon,\tm340,\tsonata,\tgrand cherokee,\twagoneer,\tdurango,\tmustang,\tf-350,\tqx30,\tpassport,\tes,\tsierra,\ttundra,\tct5,\tenvista,\tcx-5,\tcivic,\taccord,\tatlas,\t4runner,\tsequoia,\tcontinental,\tmarquis,\tis,\tlx,\trz 450e,\tescalade,\tls,\tnautilus,\tintegra,\tmdx,\t435 i,\tilx,\tpalisade,\tx7,\tescape,\tcooper,\tix m60,\tx3,\tcanyon,\tland cruiser,\tlyriq,\ttrax,\t1500,\tnavigator,\trange rover,\trs 5,\tleaf s,\taltima,\te-class,\tgls 600,\thighlander,\tgls 450,\tcayenne,\tq7,\ttt,\twrangler,\tgt,\tf-150,\tf-250,\tdefender,\tqx80,\tqx60,\tessentia,\tgle,\tpanamera,\tm3,\ttelluride,\tforte,\ta7,\tx5,\t330 i,\tix xdrive50,\t740,\tjuke,\tct6,\tmazda3,\twrx,\tcrosstrek,\tranger,\texplorer,\ttown car,\tfusion,\t2500,\tgladiator,\tq5,\tf-pace,\tdiscovery,\tsilverado,\tgla,\tg 550,\te-tron,\ts-class,\tghibli,\ttahoe,\t6,\tcr-v,\telantra,\tgx,\todyssey,\tgiulia,\tcorvette,\tc-class,\tcx-9,\tcl,\tx4,\t3,\tsuburban,\tfiesta,\ttacoma,\tmodel x,\tflying spur,\troadster,\tcorsair,\tmx-5 miata,\txd,\ttucson,\trx,\tlc,\tmacan,\ttaycan,\trdx,\toutback,\tgv80,\tg70,\tchallenger,\tascent,\txt4,\t1,\tpathfinder,\tglc,\tamg gt,\tgls 580,\t300,\t4matic,\tacadia,\trs 7,\tsq5,\t540 i,\ta8,\tqx50,\ts3,\tcharger,\tequinox,\tcoupe,\tgr86,\tprius,\tarmada,\tmaxima,\trogue,\tkicks,\tsentra,\tcamry,\taviator,\tpilot,\texpedition,\tcolorado,\tsoul,\tlegacy,\tcorolla,\tsienna,\tcrown,\txc90,\t3500,\tmirage,\tterrain,\trenegade,\tenvision,\tcarnival,\tsorento,\tmodel s,\trav4,\ttiguan,\tjetta,\t86,\t500,\tmodel y,\tviper,\tr1s,\tioniq,\ts90,\tmodel 3,\tf-450,\tcx-30,\tct4-v,\tsupra,\tq40,\tavalon,\tm5,\toutlander,\ta4,\ttitan,\tc-hr,\tvenza,\tcruze,\txc60,\tcx-3,\tkona,\txt6,\tfj cruiser,\tg80,\tsrx,\tpassat,\tmalibu,\tridgeline,\tct4,\tblazer,\ts8,\tvantage,\tid.4,\tversa,\tenclave,\t911,\tsanta cruz,\tsc 400,\tx6,\tm850 i,\taventador,\tcla,\tjourney,\tamg e53,\tsanta fe,\tgs 350,\tgrand wagoneer,\tg90,\ts5,\thr-v,\th2 sut,\tq8,\tsl 400,\tsky,\texcursion,\trc,\tlevante,\tcayman,\tcompass,\tcherokee,\tcullinan,\txt5,\tm440 i,\t750 i,\tux,\t430 i,\tnx,\tcalifornia,\tniro,\tmaverick,\tbrz,\tboxster,\tqx56,\t750,\tbentayga,\tquattroporte,\th3,\tthunderbird,\t2,\ts60,\tq3,\ta3,\ta6,\txb7,\tglb,\tgs f,\tbolt,\trio,\tseltos,\tq60,\tazera,\tr32,\tm4,\txc40,\telectric,\tgl 450,\tmkz,\tgrand touring,\tmurano,\tsq8,\tlr4,\tsolterra,\tflex,\trlx,\tv60,\tmkc,\tv90,\tstinger,\teqs,\ta5,\timpala,\ttraverse,\ttrailblazer,\tstelvio,\tk5,\tm2,\tspider,\tc70,\tcts,\t535 i,\tencore,\tm6,\tfit,\ttc,\tedge,\tf-type,\tfocus,\tgv70,\ts4,\tfrontier,\tz sport,\toptima,\tnv200 s,\tpatriot,\tgranturismo,\tforester,\tslk32,\tpacifica,\tc 43,\ttown & country,\ttransit,\tsc 430,\tr8,\tsl 550,\ttl,\tmc20,\ti-pace,\tvenue,\tcr-z,\timpreza,\t440 i,\txk,\ttouareg,\tspyder,\ti3,\txm,\tm8,\txterra,\t760i,\ti7,\t525,\te-pace,\teclipse cross,\tmazda6,\tyaris,\tm-class,\t718,\txe,\tr1t,\tx2,\t428 i,\tquest,\tdart,\t550 i,\tqx70,\tz4,\tev6,\ti8,\txf,\tk900,\tmariner,\tmks,\tgrecale,\tsl 55,\tvolt,\tmkt,\ts6,\tariya,\tarteon,\tregal,\tlesabre,\tats,\ts2000,\ta-class,\taccent,\taveo,\tpt cruiser,\tlacrosse,\tc30,\tchevelle,\t4500,\tveloster,\t528 i,\t720s,\t530 i,\tltd,\tslk300,\trs6,\tmx-30,\tcascada,\tc-max,\te-transit,\txc70,\tavalanche,\tghost,\tdb11,\tcc,\tfirebird,\tx1,\ttaurus,\tlancer,\tqx55,\tcrosstour,\tbeetle,\tnv3500,\tmetris,\tecosport,\tlucerne,\t535,\ttonale,\txts,\tz,\tpolice interceptor,\tsonic,\tc10,\tverano,\tdts,\tdbx,\tff base,\tgallardo,\tarnage,\ts7,\turus,\tsilver seraph,\talpina,\tliberty,\txb,\t9-3,\tmatrix,\ttype 57,\t840 i,\tlr2,\tsq7,\txj,\tcabrio,\te-golf,\tdeville,\tsolstice,\teos,\tartura,\tiq,\thornet,\th2,\tcj-5,\trs 3,\t528i,\tmkx,\txl7,\txlr,\thardtop,\te350,\tb4000,\tcrossfire,\thuracan,\tsavana,\tm760 i,\ti-miev,\tgv60,\tscout,\tfx35,\tpark avenue,\tgrand prix,\tnv2500,\tnsx,\ttribute,\tfortwo,\te250,\tinsight,\tpromaster,\tcadenza,\tbaja,\tconvertible,\tg37,\tsl 43,\tg35,\twraith,\ts209,\t675lt,\t560 sl,\tneon,\tavenger,\t430i,\t530e,\teqe,\tel camino,\tdel sol,\tfr-s,\tbz4x,\tmonte carlo,\triviera,\t530i,\ttracker,\tdakota,\tmulsanne,\ttsx,\tgrand caravan,\tsprinter,\tsedona,\t928,\tmazda5,\taztek,\t488,\t570gt,\troma,\t914,\t488 gtb,\tf8 tributo,\tcentury,\tdawn,\t9-5,\tstealth,\tsl 450,\tvibe,\tss,\tcaravan,\thhr,\tcavalier,\tsebring,\tgs,\tgtc4lusso,\telement,\tair,\tcutlass,\tmark,\tastro,\tdb9,\teurovan,\tsts,\tcaptiva,\ttrooper,\tjx35,\trl,\tgalant,\t528,\tventure,\tmr2,\tdbs,\tsl55,\tcommander,\telise,\tbonneville,\trapide,\tgs-6,\teldorado,\tstrada,\tcobalt,\tgrand vitara,\tequus,\tsx4,\tsls,\t600lt,\t570s,\tportofino,\tendeavor,\tcx-7,\tslk350,\ts-type,\tnitro,\tb3000,\t4c,\tm35,\tlebaron,\tcelica,\tentourage,\te150,\tpickup truck,\tphantom,\tmirai,\t924 s,\t"
     ]
    }
   ],
   "source": [
    "df.Model = df.Model.apply(lambda model: model.lower())\n",
    "for model in df.Model.unique():\n",
    "    print(model, end=\",\\t\")"
   ]
  },
  {
   "cell_type": "code",
   "execution_count": 59,
   "metadata": {},
   "outputs": [
    {
     "data": {
      "text/html": [
       "<div>\n",
       "<style scoped>\n",
       "    .dataframe tbody tr th:only-of-type {\n",
       "        vertical-align: middle;\n",
       "    }\n",
       "\n",
       "    .dataframe tbody tr th {\n",
       "        vertical-align: top;\n",
       "    }\n",
       "\n",
       "    .dataframe thead th {\n",
       "        text-align: right;\n",
       "    }\n",
       "</style>\n",
       "<table border=\"1\" class=\"dataframe\">\n",
       "  <thead>\n",
       "    <tr style=\"text-align: right;\">\n",
       "      <th></th>\n",
       "      <th>Year</th>\n",
       "      <th>Mileage</th>\n",
       "      <th>Price</th>\n",
       "      <th>Age</th>\n",
       "    </tr>\n",
       "  </thead>\n",
       "  <tbody>\n",
       "    <tr>\n",
       "      <th>count</th>\n",
       "      <td>49536.000000</td>\n",
       "      <td>49536.000000</td>\n",
       "      <td>4.953600e+04</td>\n",
       "      <td>49536.000000</td>\n",
       "    </tr>\n",
       "    <tr>\n",
       "      <th>mean</th>\n",
       "      <td>2020.866481</td>\n",
       "      <td>24753.097121</td>\n",
       "      <td>5.126538e+04</td>\n",
       "      <td>2.133519</td>\n",
       "    </tr>\n",
       "    <tr>\n",
       "      <th>std</th>\n",
       "      <td>4.275406</td>\n",
       "      <td>40373.370957</td>\n",
       "      <td>3.580619e+04</td>\n",
       "      <td>4.275406</td>\n",
       "    </tr>\n",
       "    <tr>\n",
       "      <th>min</th>\n",
       "      <td>1959.000000</td>\n",
       "      <td>0.000000</td>\n",
       "      <td>1.990000e+03</td>\n",
       "      <td>-1.000000</td>\n",
       "    </tr>\n",
       "    <tr>\n",
       "      <th>25%</th>\n",
       "      <td>2020.000000</td>\n",
       "      <td>0.000000</td>\n",
       "      <td>3.079900e+04</td>\n",
       "      <td>0.000000</td>\n",
       "    </tr>\n",
       "    <tr>\n",
       "      <th>50%</th>\n",
       "      <td>2023.000000</td>\n",
       "      <td>0.000000</td>\n",
       "      <td>4.548000e+04</td>\n",
       "      <td>0.000000</td>\n",
       "    </tr>\n",
       "    <tr>\n",
       "      <th>75%</th>\n",
       "      <td>2023.000000</td>\n",
       "      <td>38564.500000</td>\n",
       "      <td>6.310500e+04</td>\n",
       "      <td>3.000000</td>\n",
       "    </tr>\n",
       "    <tr>\n",
       "      <th>max</th>\n",
       "      <td>2024.000000</td>\n",
       "      <td>400396.000000</td>\n",
       "      <td>1.299995e+06</td>\n",
       "      <td>64.000000</td>\n",
       "    </tr>\n",
       "  </tbody>\n",
       "</table>\n",
       "</div>"
      ],
      "text/plain": [
       "               Year        Mileage         Price           Age\n",
       "count  49536.000000   49536.000000  4.953600e+04  49536.000000\n",
       "mean    2020.866481   24753.097121  5.126538e+04      2.133519\n",
       "std        4.275406   40373.370957  3.580619e+04      4.275406\n",
       "min     1959.000000       0.000000  1.990000e+03     -1.000000\n",
       "25%     2020.000000       0.000000  3.079900e+04      0.000000\n",
       "50%     2023.000000       0.000000  4.548000e+04      0.000000\n",
       "75%     2023.000000   38564.500000  6.310500e+04      3.000000\n",
       "max     2024.000000  400396.000000  1.299995e+06     64.000000"
      ]
     },
     "execution_count": 59,
     "metadata": {},
     "output_type": "execute_result"
    }
   ],
   "source": [
    "df.describe()"
   ]
  }
 ],
 "metadata": {
  "kernelspec": {
   "display_name": "base",
   "language": "python",
   "name": "python3"
  },
  "language_info": {
   "codemirror_mode": {
    "name": "ipython",
    "version": 3
   },
   "file_extension": ".py",
   "mimetype": "text/x-python",
   "name": "python",
   "nbconvert_exporter": "python",
   "pygments_lexer": "ipython3",
   "version": "3.9.13"
  }
 },
 "nbformat": 4,
 "nbformat_minor": 2
}

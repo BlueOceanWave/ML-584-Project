{
 "cells": [
  {
   "cell_type": "code",
   "execution_count": 1,
   "metadata": {},
   "outputs": [],
   "source": [
    "import pandas as pd\n",
    "import numpy as np\n",
    "from datetime import date"
   ]
  },
  {
   "cell_type": "code",
   "execution_count": 2,
   "metadata": {},
   "outputs": [],
   "source": [
    "# constants\n",
    "FILE_PATH = \"cars.csv\""
   ]
  },
  {
   "cell_type": "markdown",
   "metadata": {},
   "source": [
    "## Data\n",
    "\n",
    "This dataset was retrieved from [kaggle](https://www.kaggle.com/datasets/juanmerinobermejo/us-sales-cars-dataset). It provides comprehensive information about used cars available for sale in the United States. The dataset contains the following key attributes:\n",
    "\n",
    "- **Brand:** The brand or manufacturer of the car.\n",
    "- **Model:** The specific model of the car.\n",
    "- **Mileage:** The number of miles the car has been driven.\n",
    "- **Year:** The manufacturing year of the car.\n",
    "- **Status:** Indicates whether the car is new, used, or certified pre-owned.\n",
    "- **Dealer:** Information about the dealer or seller offering the car.\n",
    "- **Price:** The listed price of the car in USD."
   ]
  },
  {
   "cell_type": "code",
   "execution_count": 3,
   "metadata": {},
   "outputs": [
    {
     "data": {
      "text/html": [
       "<div>\n",
       "<style scoped>\n",
       "    .dataframe tbody tr th:only-of-type {\n",
       "        vertical-align: middle;\n",
       "    }\n",
       "\n",
       "    .dataframe tbody tr th {\n",
       "        vertical-align: top;\n",
       "    }\n",
       "\n",
       "    .dataframe thead th {\n",
       "        text-align: right;\n",
       "    }\n",
       "</style>\n",
       "<table border=\"1\" class=\"dataframe\">\n",
       "  <thead>\n",
       "    <tr style=\"text-align: right;\">\n",
       "      <th></th>\n",
       "      <th>Brand</th>\n",
       "      <th>Model</th>\n",
       "      <th>Year</th>\n",
       "      <th>Status</th>\n",
       "      <th>Mileage</th>\n",
       "      <th>Dealer</th>\n",
       "      <th>Price</th>\n",
       "    </tr>\n",
       "  </thead>\n",
       "  <tbody>\n",
       "    <tr>\n",
       "      <th>0</th>\n",
       "      <td>Mazda</td>\n",
       "      <td>CX-5</td>\n",
       "      <td>2023</td>\n",
       "      <td>New</td>\n",
       "      <td>NaN</td>\n",
       "      <td>NaN</td>\n",
       "      <td>36703.0</td>\n",
       "    </tr>\n",
       "    <tr>\n",
       "      <th>1</th>\n",
       "      <td>Kia</td>\n",
       "      <td>Sportage</td>\n",
       "      <td>2023</td>\n",
       "      <td>New</td>\n",
       "      <td>NaN</td>\n",
       "      <td>Classic Kia</td>\n",
       "      <td>28990.0</td>\n",
       "    </tr>\n",
       "    <tr>\n",
       "      <th>2</th>\n",
       "      <td>Chevrolet</td>\n",
       "      <td>Camaro</td>\n",
       "      <td>2024</td>\n",
       "      <td>New</td>\n",
       "      <td>NaN</td>\n",
       "      <td>Classic Chevrolet Beaumont</td>\n",
       "      <td>41425.0</td>\n",
       "    </tr>\n",
       "    <tr>\n",
       "      <th>3</th>\n",
       "      <td>Ford</td>\n",
       "      <td>Bronco</td>\n",
       "      <td>2023</td>\n",
       "      <td>Used</td>\n",
       "      <td>1551.0</td>\n",
       "      <td>Mike Smith Chrysler Dodge Jeep RAM</td>\n",
       "      <td>58900.0</td>\n",
       "    </tr>\n",
       "    <tr>\n",
       "      <th>4</th>\n",
       "      <td>Acura</td>\n",
       "      <td>TLX</td>\n",
       "      <td>2021</td>\n",
       "      <td>Used</td>\n",
       "      <td>30384.0</td>\n",
       "      <td>Mike Smith Nissan</td>\n",
       "      <td>34499.0</td>\n",
       "    </tr>\n",
       "  </tbody>\n",
       "</table>\n",
       "</div>"
      ],
      "text/plain": [
       "       Brand     Model  Year Status  Mileage  \\\n",
       "0      Mazda      CX-5  2023    New      NaN   \n",
       "1        Kia  Sportage  2023    New      NaN   \n",
       "2  Chevrolet    Camaro  2024    New      NaN   \n",
       "3       Ford    Bronco  2023   Used   1551.0   \n",
       "4      Acura       TLX  2021   Used  30384.0   \n",
       "\n",
       "                               Dealer    Price  \n",
       "0                                 NaN  36703.0  \n",
       "1                         Classic Kia  28990.0  \n",
       "2          Classic Chevrolet Beaumont  41425.0  \n",
       "3  Mike Smith Chrysler Dodge Jeep RAM  58900.0  \n",
       "4                   Mike Smith Nissan  34499.0  "
      ]
     },
     "execution_count": 3,
     "metadata": {},
     "output_type": "execute_result"
    }
   ],
   "source": [
    "df = pd.read_csv(FILE_PATH, encoding=\"utf-16\")\n",
    "df.head()"
   ]
  },
  {
   "cell_type": "markdown",
   "metadata": {},
   "source": [
    "## Preprocessing the Data\n",
    "\n",
    "To clean the data we will:\n",
    "1. data cleaning\n",
    "2. data transformation\n",
    "3. feature reduction "
   ]
  },
  {
   "cell_type": "code",
   "execution_count": 4,
   "metadata": {},
   "outputs": [
    {
     "name": "stdout",
     "output_type": "stream",
     "text": [
      "Total Rows: 51793\n"
     ]
    },
    {
     "data": {
      "text/plain": [
       "Brand       0.00%\n",
       "Model       0.00%\n",
       "Year        0.00%\n",
       "Status      0.00%\n",
       "Mileage    55.63%\n",
       "Dealer      0.20%\n",
       "Price       2.22%\n",
       "dtype: object"
      ]
     },
     "execution_count": 4,
     "metadata": {},
     "output_type": "execute_result"
    }
   ],
   "source": [
    "row_count = len(df)\n",
    "print(f\"Total Rows: {len(df)}\")\n",
    "df.isnull().sum().map(lambda sum: f\"{sum / row_count:.2%}\")"
   ]
  },
  {
   "cell_type": "markdown",
   "metadata": {},
   "source": [
    "### Missing Values\n",
    "The statistics above indicate the percentage of missing data under each column. Many of the rows are missing entries for mileage. We can drop the rows with missing values for mileage and price."
   ]
  },
  {
   "cell_type": "code",
   "execution_count": 5,
   "metadata": {},
   "outputs": [
    {
     "name": "stdout",
     "output_type": "stream",
     "text": [
      "Total Rows: 22974\n"
     ]
    }
   ],
   "source": [
    "df = df.dropna()\n",
    "print(f\"Total Rows: {len(df)}\")"
   ]
  },
  {
   "cell_type": "markdown",
   "metadata": {},
   "source": [
    "### Remove duplicates"
   ]
  },
  {
   "cell_type": "code",
   "execution_count": 6,
   "metadata": {},
   "outputs": [
    {
     "name": "stdout",
     "output_type": "stream",
     "text": [
      "Total Rows: 22935\n"
     ]
    }
   ],
   "source": [
    "df = df.drop_duplicates()\n",
    "print(f\"Total Rows: {len(df)}\")"
   ]
  },
  {
   "cell_type": "markdown",
   "metadata": {},
   "source": [
    "### Data Transformation / Normalization\n",
    "- we should scale certain features (like year to age)\n",
    "- we should check for any typos or inconsistencies in text"
   ]
  },
  {
   "cell_type": "code",
   "execution_count": 7,
   "metadata": {},
   "outputs": [],
   "source": [
    "df[\"Age\"] = date.today().year - df.Year"
   ]
  },
  {
   "cell_type": "code",
   "execution_count": null,
   "metadata": {},
   "outputs": [
    {
     "name": "stdout",
     "output_type": "stream",
     "text": [
      "Ford,\tAcura,\tVolkswagen,\tGMC,\tInfiniti,\tLexus,\tToyota,\tMazda,\tHonda,\tLincoln,\tMercury,\tCadillac,\tBMW,\tChevrolet,\tHyundai,\tLand Rover,\tAudi,\tMercedes,\tJeep,\tPorsche,\tKia,\tMINI,\tNissan,\tSubaru,\tRAM,\tMaserati,\tTesla,\tBentley,\tDodge,\tMitsubishi,\tFIAT,\tRivian,\tGenesis,\tAston Martin,\tBuick,\tJaguar,\tLamborghini,\tHummer,\tSaturn,\tRolls-Royce,\tVolvo,\tFerrari,\tPolestar,\tLucid,\tAlfa Romeo,\tScion,\tChrysler,\tPontiac,\tKarma,\tSmart,\tMcLaren,\tLotus,\tSaab,\tMaybach,\tSuzuki,\tInternational Scout,\tGeo,\tOldsmobile,\tIsuzu,\t"
     ]
    }
   ],
   "source": [
    "for brand in df.Brand.unique():\n",
    "    print(brand, end=\",\\t\")"
   ]
  },
  {
   "cell_type": "code",
   "execution_count": null,
   "metadata": {},
   "outputs": [
    {
     "name": "stdout",
     "output_type": "stream",
     "text": [
      "Bronco,\tTLX,\tGolf,\tYukon,\tQX30,\tES,\tSierra,\tTundra,\tCX-5,\tAccord,\tAtlas,\tSequoia,\tContinental,\tMarquis,\tIS,\tMustang,\tLS,\tNautilus,\tCT5,\tEscalade,\tMDX,\t435 i,\tILX,\tPalisade,\tX7,\tEscape,\tSonata,\tLand Cruiser,\tNavigator,\tRange Rover,\tRS 5,\tE-Class,\tGrand Cherokee,\tGLS 600,\tHighlander,\tWagoneer,\tGLS 450,\tCayenne,\tQ7,\tTT,\tWrangler,\tF-150,\tF-250,\tDefender,\tQX80,\tQX60,\tEssentia,\tGLE,\tPanamera,\tTelluride,\tForte,\tCooper,\tA7,\tJuke,\tCT6,\tWRX,\tCamaro,\tCrosstrek,\tTown Car,\tFusion,\t2500,\tQ5,\tDiscovery,\tG 550,\te-tron,\tGhibli,\tTahoe,\t6,\tCR-V,\tElantra,\tGX,\tPassport,\tOdyssey,\tExplorer,\tCorvette,\tC-Class,\tF-350,\tX4,\tCivic,\t3,\tSuburban,\tFiesta,\tGT,\tModel X,\tFlying Spur,\tRoadster,\txD,\tTucson,\tRX,\tMacan,\tTaycan,\tRDX,\tOutback,\tChallenger,\tAscent,\tTacoma,\t1,\tLX,\tX5,\tSQ5,\t540 i,\tA8,\tQX50,\tS3,\t1500,\tSportage,\tPrius,\tCamry,\tAviator,\tCorolla,\tColorado,\tMirage,\tTerrain,\t3500,\tRenegade,\tSilverado,\tModel S,\t86,\t500,\tModel Y,\tAltima,\tViper,\tR1S,\tIoniq,\tTiguan,\tModel 3,\tDurango,\tExpedition,\tCX-30,\tMazda3,\tCX-9,\tCT4-V,\tSupra,\tQ40,\tAvalon,\tM5,\tOutlander,\tA4,\tTitan,\tC-HR,\tVenza,\tCruze,\tCX-3,\tGLC,\t330 i,\t4Runner,\tFJ Cruiser,\tRAV4,\tG80,\tSRX,\tPassat,\tCT4,\tCanyon,\tAMG GT,\tS8,\tVantage,\tS-Class,\tVersa,\tCharger,\tEnclave,\t911,\tSanta Cruz,\tF-PACE,\tSC 400,\tX6,\tCoupe,\tAventador,\tJourney,\tAMG E53,\tSanta Fe,\tGS 350,\tGV80,\tS5,\tIntegra,\tHR-V,\tPilot,\tH2 SUT,\tPathfinder,\tQ8,\tSL 400,\tSky,\t4MATIC,\tGladiator,\tExcursion,\tRC,\tLevante,\tCayman,\tCullinan,\tXT5,\tM440 i,\tX3,\tiX xDrive50,\tXC90,\tUX,\tXC60,\t430 i,\tNX,\tCalifornia,\tLC,\t750 i,\tNiro,\tBRZ,\tBoxster,\tQX56,\tM3,\t750,\tBentayga,\tQuattroporte,\tH3,\tThunderbird,\t2,\tS60,\tM340,\tXB7,\tGrand Wagoneer,\tGLB,\tGS F,\tKona,\tCarnival,\tBolt,\tRio,\tSeltos,\tQ60,\tAzera,\tR32,\t740,\tM4,\tXC40,\tMX-5 Miata,\tGL 450,\tMKZ,\tMalibu,\tGrand Touring,\tSorento,\tMurano,\tLR4,\tFlex,\tRLX,\tXT6,\tV60,\tMKC,\tV90,\tMaxima,\tGLS 580,\tGR86,\tG70,\tImpala,\tCL,\tRogue,\tCorsair,\tStelvio,\tBlazer,\tSpider,\tC70,\tCTS,\t535 i,\tEncore,\tM6,\tFit,\tJetta,\tTC,\tEdge,\t300,\tFocus,\tS4,\tSienna,\tTraverse,\tArmada,\tRS 7,\tFrontier,\tZ Sport,\tOptima,\tNV200 S,\tPatriot,\tGranTurismo,\tForester,\tSLK32,\tPacifica,\tC 43,\tTown & Country,\tLeaf S,\tRanger,\tSC 430,\tEnvision,\tR8,\tSL 550,\tRidgeline,\tTL,\tA6,\tA3,\tI-PACE,\tVenue,\tTransit,\tCR-Z,\t440 i,\tXK,\tTouareg,\tSQ8,\tSpyder,\tTrax,\ti3,\tM8,\tXterra,\t525,\tE-PACE,\tAcadia,\tEclipse Cross,\tMazda6,\tYaris,\tF-TYPE,\tM-Class,\tG90,\t718,\tXE,\tM2,\tCompass,\tR1T,\tQ3,\tX2,\tCherokee,\tEquinox,\tTrailblazer,\t428 i,\tQuest,\tDart,\t550 i,\tQX70,\tZ4,\tEV6,\tLYRIQ,\tGV70,\ti8,\tXF,\tK900,\tMariner,\tMKS,\tGiulia,\tSL 55,\tVolt,\tMKT,\tS6,\tElectric,\tARIYA,\tRegal,\tSoul,\tMaverick,\tLeSabre,\tATS,\tS2000,\tA-Class,\tAccent,\tAveo,\tPT Cruiser,\tLaCrosse,\tC30,\tStinger,\tChevelle,\t4500,\tVeloster,\t528 i,\tImpreza,\t720S,\tArteon,\t530 i,\tLTD,\tSLK300,\tRS6,\tMX-30,\tCLA,\tCascada,\tC-Max,\tXC70,\tAvalanche,\tCC,\tFirebird,\tX1,\tTaurus,\tA5,\tLancer,\tQX55,\tCrosstour,\tBeetle,\tSentra,\tNV3500,\tEcoSport,\tLucerne,\tLegacy,\t535,\tXTS,\tPolice Interceptor,\tSonic,\tID.4,\tZ,\tGLA,\tC10,\tVerano,\tS90,\tDTS,\tGrecale,\tFF Base,\tGallardo,\tArnage,\tS7,\tUrus,\tSilver Seraph,\tAlpina,\tLiberty,\txB,\t9-3,\tMatrix,\tType 57,\t840 i,\tLR2,\tXJ,\tCabrio,\tMetris,\te-Golf,\tDeVille,\tSolstice,\tEos,\tiQ,\tH2,\tCJ-5,\t760i,\tM850 i,\tRS 3,\t528i,\tMKX,\tXL7,\tXLR,\tHardtop,\tE350,\tB4000,\tCrossfire,\tHuracan,\tXT4,\tSavana,\tM760 i,\ti-MiEV,\tGV60,\tScout,\tFX35,\tPark Avenue,\tSolterra,\tGrand Prix,\tNV2500,\tNSX,\tTribute,\tForTwo,\tE250,\tInsight,\tProMaster,\tCadenza,\tBaja,\tConvertible,\tG37,\tG35,\tGhost,\tWraith,\tCrown,\tS209,\t675LT,\t560 SL,\tNeon,\tAvenger,\tEl Camino,\tdel Sol,\tFR-S,\tMonte Carlo,\tRiviera,\tTracker,\tDakota,\tMulsanne,\tTSX,\tGrand Caravan,\tSprinter,\tSedona,\t928,\tMazda5,\tSQ7,\tRZ 450e,\tDB11,\tAztek,\t530e,\t488,\t570GT,\tRoma,\t914,\t488 GTB,\tF8 Tributo,\tCentury,\tDawn,\t9-5,\tStealth,\tSL 450,\tVibe,\tSS,\tEQS,\tKicks,\tCaravan,\tHHR,\tCavalier,\tSebring,\tGS,\tGTC4Lusso,\tiX M60,\tElement,\tbZ4X,\tAir,\tCutlass,\tMark,\tAstro,\ti7,\tDB9,\tEurovan,\tSTS,\tCaptiva,\tTrooper,\tJX35,\tRL,\tGalant,\t528,\tVenture,\tMR2,\tDBS,\tSL55,\tCommander,\tElise,\tBonneville,\tRapide,\tGS-6,\tEldorado,\tStrada,\tCobalt,\tGrand Vitara,\tEquus,\tSX4,\tSLS,\t600LT,\t570S,\tPortofino,\tEndeavor,\tK5,\tCX-7,\tSLK350,\tS-TYPE,\tMC20,\tNitro,\tB3000,\t4C,\tM35,\tLeBaron,\tCelica,\tEntourage,\tE150,\tPickup Truck,\tPhantom,\tEQE,\tMirai,\t924 S,\t"
     ]
    }
   ],
   "source": [
    "for brand in df.Model.unique():\n",
    "    print(brand, end=\",\\t\")"
   ]
  },
  {
   "cell_type": "code",
   "execution_count": null,
   "metadata": {},
   "outputs": [
    {
     "data": {
      "text/html": [
       "<div>\n",
       "<style scoped>\n",
       "    .dataframe tbody tr th:only-of-type {\n",
       "        vertical-align: middle;\n",
       "    }\n",
       "\n",
       "    .dataframe tbody tr th {\n",
       "        vertical-align: top;\n",
       "    }\n",
       "\n",
       "    .dataframe thead th {\n",
       "        text-align: right;\n",
       "    }\n",
       "</style>\n",
       "<table border=\"1\" class=\"dataframe\">\n",
       "  <thead>\n",
       "    <tr style=\"text-align: right;\">\n",
       "      <th></th>\n",
       "      <th>Year</th>\n",
       "      <th>Mileage</th>\n",
       "      <th>Price</th>\n",
       "      <th>Age</th>\n",
       "    </tr>\n",
       "  </thead>\n",
       "  <tbody>\n",
       "    <tr>\n",
       "      <th>count</th>\n",
       "      <td>22935.000000</td>\n",
       "      <td>22935.000000</td>\n",
       "      <td>2.293500e+04</td>\n",
       "      <td>22935.000000</td>\n",
       "    </tr>\n",
       "    <tr>\n",
       "      <th>mean</th>\n",
       "      <td>2018.095487</td>\n",
       "      <td>53462.804404</td>\n",
       "      <td>3.923089e+04</td>\n",
       "      <td>4.904513</td>\n",
       "    </tr>\n",
       "    <tr>\n",
       "      <th>std</th>\n",
       "      <td>4.985611</td>\n",
       "      <td>44560.944849</td>\n",
       "      <td>3.421593e+04</td>\n",
       "      <td>4.985611</td>\n",
       "    </tr>\n",
       "    <tr>\n",
       "      <th>min</th>\n",
       "      <td>1959.000000</td>\n",
       "      <td>0.000000</td>\n",
       "      <td>1.990000e+03</td>\n",
       "      <td>-1.000000</td>\n",
       "    </tr>\n",
       "    <tr>\n",
       "      <th>25%</th>\n",
       "      <td>2016.000000</td>\n",
       "      <td>20619.000000</td>\n",
       "      <td>2.199500e+04</td>\n",
       "      <td>2.000000</td>\n",
       "    </tr>\n",
       "    <tr>\n",
       "      <th>50%</th>\n",
       "      <td>2020.000000</td>\n",
       "      <td>42140.000000</td>\n",
       "      <td>3.295900e+04</td>\n",
       "      <td>3.000000</td>\n",
       "    </tr>\n",
       "    <tr>\n",
       "      <th>75%</th>\n",
       "      <td>2021.000000</td>\n",
       "      <td>73971.000000</td>\n",
       "      <td>4.698450e+04</td>\n",
       "      <td>7.000000</td>\n",
       "    </tr>\n",
       "    <tr>\n",
       "      <th>max</th>\n",
       "      <td>2024.000000</td>\n",
       "      <td>400396.000000</td>\n",
       "      <td>1.299995e+06</td>\n",
       "      <td>64.000000</td>\n",
       "    </tr>\n",
       "  </tbody>\n",
       "</table>\n",
       "</div>"
      ],
      "text/plain": [
       "               Year        Mileage         Price           Age\n",
       "count  22935.000000   22935.000000  2.293500e+04  22935.000000\n",
       "mean    2018.095487   53462.804404  3.923089e+04      4.904513\n",
       "std        4.985611   44560.944849  3.421593e+04      4.985611\n",
       "min     1959.000000       0.000000  1.990000e+03     -1.000000\n",
       "25%     2016.000000   20619.000000  2.199500e+04      2.000000\n",
       "50%     2020.000000   42140.000000  3.295900e+04      3.000000\n",
       "75%     2021.000000   73971.000000  4.698450e+04      7.000000\n",
       "max     2024.000000  400396.000000  1.299995e+06     64.000000"
      ]
     },
     "execution_count": 30,
     "metadata": {},
     "output_type": "execute_result"
    }
   ],
   "source": [
    "df.describe()"
   ]
  },
  {
   "cell_type": "code",
   "execution_count": null,
   "metadata": {},
   "outputs": [],
   "source": []
  }
 ],
 "metadata": {
  "kernelspec": {
   "display_name": "base",
   "language": "python",
   "name": "python3"
  },
  "language_info": {
   "codemirror_mode": {
    "name": "ipython",
    "version": 3
   },
   "file_extension": ".py",
   "mimetype": "text/x-python",
   "name": "python",
   "nbconvert_exporter": "python",
   "pygments_lexer": "ipython3",
   "version": "3.9.13"
  }
 },
 "nbformat": 4,
 "nbformat_minor": 2
}

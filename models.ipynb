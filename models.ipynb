{
 "cells": [
  {
   "cell_type": "code",
   "execution_count": 242,
   "id": "d62e732e-53c4-4cf3-8172-da29b8320fc1",
   "metadata": {},
   "outputs": [],
   "source": [
    "import pandas as pd\n",
    "import numpy as np\n",
    "import seaborn as sns\n",
    "import matplotlib.pyplot as plt\n",
    "import matplotlib\n",
    "import xgboost as xgb\n",
    "\n",
    "from sklearn.preprocessing import OneHotEncoder, LabelEncoder\n",
    "from sklearn.model_selection import train_test_split, GridSearchCV\n",
    "from sklearn.linear_model import LinearRegression, Ridge, Lasso, LogisticRegression\n",
    "from sklearn.metrics import accuracy_score, classification_report\n",
    "\n",
    "from scipy.stats import pearsonr\n",
    "from sklearn.metrics import mean_squared_error, r2_score"
   ]
  },
  {
   "cell_type": "markdown",
   "id": "8abd8ed1-6e5b-4cdb-a369-2df62eca8e30",
   "metadata": {},
   "source": [
    "## Fitting Models"
   ]
  },
  {
   "cell_type": "code",
   "execution_count": 243,
   "id": "bfd8969d-1e9c-4441-9d98-c273167785b0",
   "metadata": {},
   "outputs": [],
   "source": [
    "# constants\n",
    "FILE_PATH = \"cars.csv\"\n",
    "WITH_FEATURES_PATH = \"cars-with-features.csv\"\n",
    "SEED = 42"
   ]
  },
  {
   "cell_type": "markdown",
   "id": "e4a1825d-b2a7-4c81-aae8-526afa6d1289",
   "metadata": {},
   "source": [
    "### Dataset Preparation"
   ]
  },
  {
   "cell_type": "code",
   "execution_count": 244,
   "id": "dc1bf618-1ee3-4094-b6a3-7bf0bd42673e",
   "metadata": {},
   "outputs": [],
   "source": [
    "# load in the data frame\n",
    "df_with_features = pd.read_csv(WITH_FEATURES_PATH)"
   ]
  },
  {
   "cell_type": "code",
   "execution_count": 245,
   "id": "5e5e925a-6938-4164-8db9-cf202a7fb1df",
   "metadata": {},
   "outputs": [],
   "source": [
    "# One-hot encode certain columns\n",
    "df_linreg = df_with_features.copy()\n",
    "columns_to_encode = ['Brand',  'Status']\n",
    "\n",
    "encoder = OneHotEncoder()\n",
    "onehot_encoded = encoder.fit_transform(df_with_features[columns_to_encode])\n",
    "onehot_encoded_df = pd.DataFrame(onehot_encoded.toarray(), columns=encoder.get_feature_names_out(columns_to_encode))\n",
    "\n",
    "df_linreg = pd.concat([df_linreg, onehot_encoded_df], axis=1)"
   ]
  },
  {
   "cell_type": "code",
   "execution_count": 246,
   "id": "921b834f-3d19-407d-aa97-b5db6df814d4",
   "metadata": {},
   "outputs": [],
   "source": [
    "# Normalize columns to be between 1 and 0\n",
    "df_linreg['Age'] = (df_linreg['Age'] - df_linreg['Age'].min()) / (df_linreg['Age'].max() - df_linreg['Age'].min())\n",
    "df_linreg['Mileage'] = (df_linreg['Mileage'] - df_linreg['Mileage'].min()) / (df_linreg['Mileage'].max() - df_linreg['Mileage'].min())\n",
    "df_linreg['Yearly_Miles'] = (df_linreg['Yearly_Miles'] - df_linreg['Yearly_Miles'].min()) / (df_linreg['Yearly_Miles'].max() - df_linreg['Yearly_Miles'].min())"
   ]
  },
  {
   "cell_type": "code",
   "execution_count": 247,
   "id": "18a8517d-cdaa-4d25-a1ce-267bfd2537f2",
   "metadata": {},
   "outputs": [],
   "source": [
    "# Filter Outliers\n",
    "df_linreg = df_linreg[df_linreg['Price'] <= 175000]\n",
    "df_linreg = df_linreg[df_linreg['Age'] <= 15]\n",
    "df_linreg = df_linreg[df_linreg['Age'] <= 200000]"
   ]
  },
  {
   "cell_type": "code",
   "execution_count": 248,
   "id": "cb8bb5f9-0144-4a59-98c7-c62805ea4690",
   "metadata": {},
   "outputs": [],
   "source": [
    "# Final Data cleaning\n",
    "df_linreg = df_linreg.drop(columns=['Brand', 'Model', 'Status', 'PriceRange', 'Dealer', 'Year'])\n",
    "\n",
    "df_linreg.replace([np.inf, -np.inf], np.nan, inplace=True)\n",
    "df_linreg = df_linreg.dropna()"
   ]
  },
  {
   "cell_type": "code",
   "execution_count": 249,
   "id": "733100b9-dff5-4d8a-b879-85dbb89fe01c",
   "metadata": {},
   "outputs": [
    {
     "data": {
      "text/html": [
       "<div>\n",
       "<style scoped>\n",
       "    .dataframe tbody tr th:only-of-type {\n",
       "        vertical-align: middle;\n",
       "    }\n",
       "\n",
       "    .dataframe tbody tr th {\n",
       "        vertical-align: top;\n",
       "    }\n",
       "\n",
       "    .dataframe thead th {\n",
       "        text-align: right;\n",
       "    }\n",
       "</style>\n",
       "<table border=\"1\" class=\"dataframe\">\n",
       "  <thead>\n",
       "    <tr style=\"text-align: right;\">\n",
       "      <th></th>\n",
       "      <th>Mileage</th>\n",
       "      <th>Price</th>\n",
       "      <th>Age</th>\n",
       "      <th>Yearly_Miles</th>\n",
       "      <th>Brand_audi</th>\n",
       "      <th>Brand_bmw</th>\n",
       "      <th>Brand_cadillac</th>\n",
       "      <th>Brand_chevrolet</th>\n",
       "      <th>Brand_dodge</th>\n",
       "      <th>Brand_ford</th>\n",
       "      <th>...</th>\n",
       "      <th>Brand_lexus</th>\n",
       "      <th>Brand_mazda</th>\n",
       "      <th>Brand_mercedes</th>\n",
       "      <th>Brand_nissan</th>\n",
       "      <th>Brand_ram</th>\n",
       "      <th>Brand_toyota</th>\n",
       "      <th>Brand_volkswagen</th>\n",
       "      <th>Status_certified</th>\n",
       "      <th>Status_new</th>\n",
       "      <th>Status_used</th>\n",
       "    </tr>\n",
       "  </thead>\n",
       "  <tbody>\n",
       "    <tr>\n",
       "      <th>0</th>\n",
       "      <td>0.000000</td>\n",
       "      <td>28990.0</td>\n",
       "      <td>0.015385</td>\n",
       "      <td>0.0</td>\n",
       "      <td>0.0</td>\n",
       "      <td>0.0</td>\n",
       "      <td>0.0</td>\n",
       "      <td>0.0</td>\n",
       "      <td>0.0</td>\n",
       "      <td>0.0</td>\n",
       "      <td>...</td>\n",
       "      <td>0.0</td>\n",
       "      <td>0.0</td>\n",
       "      <td>0.0</td>\n",
       "      <td>0.0</td>\n",
       "      <td>0.0</td>\n",
       "      <td>0.0</td>\n",
       "      <td>0.0</td>\n",
       "      <td>0.0</td>\n",
       "      <td>1.0</td>\n",
       "      <td>0.0</td>\n",
       "    </tr>\n",
       "    <tr>\n",
       "      <th>2</th>\n",
       "      <td>0.003874</td>\n",
       "      <td>58900.0</td>\n",
       "      <td>0.015385</td>\n",
       "      <td>0.0</td>\n",
       "      <td>0.0</td>\n",
       "      <td>0.0</td>\n",
       "      <td>0.0</td>\n",
       "      <td>0.0</td>\n",
       "      <td>0.0</td>\n",
       "      <td>1.0</td>\n",
       "      <td>...</td>\n",
       "      <td>0.0</td>\n",
       "      <td>0.0</td>\n",
       "      <td>0.0</td>\n",
       "      <td>0.0</td>\n",
       "      <td>0.0</td>\n",
       "      <td>0.0</td>\n",
       "      <td>0.0</td>\n",
       "      <td>0.0</td>\n",
       "      <td>0.0</td>\n",
       "      <td>1.0</td>\n",
       "    </tr>\n",
       "    <tr>\n",
       "      <th>3</th>\n",
       "      <td>0.034703</td>\n",
       "      <td>34000.0</td>\n",
       "      <td>0.030769</td>\n",
       "      <td>0.0</td>\n",
       "      <td>0.0</td>\n",
       "      <td>0.0</td>\n",
       "      <td>0.0</td>\n",
       "      <td>0.0</td>\n",
       "      <td>0.0</td>\n",
       "      <td>0.0</td>\n",
       "      <td>...</td>\n",
       "      <td>0.0</td>\n",
       "      <td>0.0</td>\n",
       "      <td>0.0</td>\n",
       "      <td>0.0</td>\n",
       "      <td>0.0</td>\n",
       "      <td>0.0</td>\n",
       "      <td>1.0</td>\n",
       "      <td>1.0</td>\n",
       "      <td>0.0</td>\n",
       "      <td>0.0</td>\n",
       "    </tr>\n",
       "    <tr>\n",
       "      <th>4</th>\n",
       "      <td>0.171096</td>\n",
       "      <td>56954.0</td>\n",
       "      <td>0.046154</td>\n",
       "      <td>0.0</td>\n",
       "      <td>0.0</td>\n",
       "      <td>0.0</td>\n",
       "      <td>0.0</td>\n",
       "      <td>0.0</td>\n",
       "      <td>0.0</td>\n",
       "      <td>0.0</td>\n",
       "      <td>...</td>\n",
       "      <td>0.0</td>\n",
       "      <td>0.0</td>\n",
       "      <td>0.0</td>\n",
       "      <td>0.0</td>\n",
       "      <td>0.0</td>\n",
       "      <td>0.0</td>\n",
       "      <td>0.0</td>\n",
       "      <td>0.0</td>\n",
       "      <td>0.0</td>\n",
       "      <td>1.0</td>\n",
       "    </tr>\n",
       "    <tr>\n",
       "      <th>5</th>\n",
       "      <td>0.000000</td>\n",
       "      <td>61715.0</td>\n",
       "      <td>0.015385</td>\n",
       "      <td>0.0</td>\n",
       "      <td>0.0</td>\n",
       "      <td>1.0</td>\n",
       "      <td>0.0</td>\n",
       "      <td>0.0</td>\n",
       "      <td>0.0</td>\n",
       "      <td>0.0</td>\n",
       "      <td>...</td>\n",
       "      <td>0.0</td>\n",
       "      <td>0.0</td>\n",
       "      <td>0.0</td>\n",
       "      <td>0.0</td>\n",
       "      <td>0.0</td>\n",
       "      <td>0.0</td>\n",
       "      <td>0.0</td>\n",
       "      <td>0.0</td>\n",
       "      <td>1.0</td>\n",
       "      <td>0.0</td>\n",
       "    </tr>\n",
       "    <tr>\n",
       "      <th>...</th>\n",
       "      <td>...</td>\n",
       "      <td>...</td>\n",
       "      <td>...</td>\n",
       "      <td>...</td>\n",
       "      <td>...</td>\n",
       "      <td>...</td>\n",
       "      <td>...</td>\n",
       "      <td>...</td>\n",
       "      <td>...</td>\n",
       "      <td>...</td>\n",
       "      <td>...</td>\n",
       "      <td>...</td>\n",
       "      <td>...</td>\n",
       "      <td>...</td>\n",
       "      <td>...</td>\n",
       "      <td>...</td>\n",
       "      <td>...</td>\n",
       "      <td>...</td>\n",
       "      <td>...</td>\n",
       "      <td>...</td>\n",
       "      <td>...</td>\n",
       "    </tr>\n",
       "    <tr>\n",
       "      <th>41369</th>\n",
       "      <td>0.000000</td>\n",
       "      <td>50635.0</td>\n",
       "      <td>0.015385</td>\n",
       "      <td>0.0</td>\n",
       "      <td>0.0</td>\n",
       "      <td>0.0</td>\n",
       "      <td>0.0</td>\n",
       "      <td>0.0</td>\n",
       "      <td>0.0</td>\n",
       "      <td>0.0</td>\n",
       "      <td>...</td>\n",
       "      <td>0.0</td>\n",
       "      <td>0.0</td>\n",
       "      <td>1.0</td>\n",
       "      <td>0.0</td>\n",
       "      <td>0.0</td>\n",
       "      <td>0.0</td>\n",
       "      <td>0.0</td>\n",
       "      <td>0.0</td>\n",
       "      <td>1.0</td>\n",
       "      <td>0.0</td>\n",
       "    </tr>\n",
       "    <tr>\n",
       "      <th>41370</th>\n",
       "      <td>0.000000</td>\n",
       "      <td>122455.0</td>\n",
       "      <td>0.015385</td>\n",
       "      <td>0.0</td>\n",
       "      <td>0.0</td>\n",
       "      <td>0.0</td>\n",
       "      <td>0.0</td>\n",
       "      <td>1.0</td>\n",
       "      <td>0.0</td>\n",
       "      <td>0.0</td>\n",
       "      <td>...</td>\n",
       "      <td>0.0</td>\n",
       "      <td>0.0</td>\n",
       "      <td>0.0</td>\n",
       "      <td>0.0</td>\n",
       "      <td>0.0</td>\n",
       "      <td>0.0</td>\n",
       "      <td>0.0</td>\n",
       "      <td>0.0</td>\n",
       "      <td>1.0</td>\n",
       "      <td>0.0</td>\n",
       "    </tr>\n",
       "    <tr>\n",
       "      <th>41371</th>\n",
       "      <td>0.000000</td>\n",
       "      <td>125930.0</td>\n",
       "      <td>0.015385</td>\n",
       "      <td>0.0</td>\n",
       "      <td>0.0</td>\n",
       "      <td>0.0</td>\n",
       "      <td>0.0</td>\n",
       "      <td>1.0</td>\n",
       "      <td>0.0</td>\n",
       "      <td>0.0</td>\n",
       "      <td>...</td>\n",
       "      <td>0.0</td>\n",
       "      <td>0.0</td>\n",
       "      <td>0.0</td>\n",
       "      <td>0.0</td>\n",
       "      <td>0.0</td>\n",
       "      <td>0.0</td>\n",
       "      <td>0.0</td>\n",
       "      <td>0.0</td>\n",
       "      <td>1.0</td>\n",
       "      <td>0.0</td>\n",
       "    </tr>\n",
       "    <tr>\n",
       "      <th>41372</th>\n",
       "      <td>0.000000</td>\n",
       "      <td>53715.0</td>\n",
       "      <td>0.015385</td>\n",
       "      <td>0.0</td>\n",
       "      <td>0.0</td>\n",
       "      <td>0.0</td>\n",
       "      <td>0.0</td>\n",
       "      <td>0.0</td>\n",
       "      <td>0.0</td>\n",
       "      <td>0.0</td>\n",
       "      <td>...</td>\n",
       "      <td>0.0</td>\n",
       "      <td>0.0</td>\n",
       "      <td>0.0</td>\n",
       "      <td>0.0</td>\n",
       "      <td>0.0</td>\n",
       "      <td>0.0</td>\n",
       "      <td>0.0</td>\n",
       "      <td>0.0</td>\n",
       "      <td>1.0</td>\n",
       "      <td>0.0</td>\n",
       "    </tr>\n",
       "    <tr>\n",
       "      <th>41373</th>\n",
       "      <td>0.000000</td>\n",
       "      <td>91450.0</td>\n",
       "      <td>0.015385</td>\n",
       "      <td>0.0</td>\n",
       "      <td>0.0</td>\n",
       "      <td>0.0</td>\n",
       "      <td>0.0</td>\n",
       "      <td>0.0</td>\n",
       "      <td>0.0</td>\n",
       "      <td>0.0</td>\n",
       "      <td>...</td>\n",
       "      <td>0.0</td>\n",
       "      <td>0.0</td>\n",
       "      <td>0.0</td>\n",
       "      <td>0.0</td>\n",
       "      <td>0.0</td>\n",
       "      <td>0.0</td>\n",
       "      <td>0.0</td>\n",
       "      <td>0.0</td>\n",
       "      <td>1.0</td>\n",
       "      <td>0.0</td>\n",
       "    </tr>\n",
       "  </tbody>\n",
       "</table>\n",
       "<p>34570 rows × 25 columns</p>\n",
       "</div>"
      ],
      "text/plain": [
       "        Mileage     Price       Age  Yearly_Miles  Brand_audi  Brand_bmw  \\\n",
       "0      0.000000   28990.0  0.015385           0.0         0.0        0.0   \n",
       "2      0.003874   58900.0  0.015385           0.0         0.0        0.0   \n",
       "3      0.034703   34000.0  0.030769           0.0         0.0        0.0   \n",
       "4      0.171096   56954.0  0.046154           0.0         0.0        0.0   \n",
       "5      0.000000   61715.0  0.015385           0.0         0.0        1.0   \n",
       "...         ...       ...       ...           ...         ...        ...   \n",
       "41369  0.000000   50635.0  0.015385           0.0         0.0        0.0   \n",
       "41370  0.000000  122455.0  0.015385           0.0         0.0        0.0   \n",
       "41371  0.000000  125930.0  0.015385           0.0         0.0        0.0   \n",
       "41372  0.000000   53715.0  0.015385           0.0         0.0        0.0   \n",
       "41373  0.000000   91450.0  0.015385           0.0         0.0        0.0   \n",
       "\n",
       "       Brand_cadillac  Brand_chevrolet  Brand_dodge  Brand_ford  ...  \\\n",
       "0                 0.0              0.0          0.0         0.0  ...   \n",
       "2                 0.0              0.0          0.0         1.0  ...   \n",
       "3                 0.0              0.0          0.0         0.0  ...   \n",
       "4                 0.0              0.0          0.0         0.0  ...   \n",
       "5                 0.0              0.0          0.0         0.0  ...   \n",
       "...               ...              ...          ...         ...  ...   \n",
       "41369             0.0              0.0          0.0         0.0  ...   \n",
       "41370             0.0              1.0          0.0         0.0  ...   \n",
       "41371             0.0              1.0          0.0         0.0  ...   \n",
       "41372             0.0              0.0          0.0         0.0  ...   \n",
       "41373             0.0              0.0          0.0         0.0  ...   \n",
       "\n",
       "       Brand_lexus  Brand_mazda  Brand_mercedes  Brand_nissan  Brand_ram  \\\n",
       "0              0.0          0.0             0.0           0.0        0.0   \n",
       "2              0.0          0.0             0.0           0.0        0.0   \n",
       "3              0.0          0.0             0.0           0.0        0.0   \n",
       "4              0.0          0.0             0.0           0.0        0.0   \n",
       "5              0.0          0.0             0.0           0.0        0.0   \n",
       "...            ...          ...             ...           ...        ...   \n",
       "41369          0.0          0.0             1.0           0.0        0.0   \n",
       "41370          0.0          0.0             0.0           0.0        0.0   \n",
       "41371          0.0          0.0             0.0           0.0        0.0   \n",
       "41372          0.0          0.0             0.0           0.0        0.0   \n",
       "41373          0.0          0.0             0.0           0.0        0.0   \n",
       "\n",
       "       Brand_toyota  Brand_volkswagen  Status_certified  Status_new  \\\n",
       "0               0.0               0.0               0.0         1.0   \n",
       "2               0.0               0.0               0.0         0.0   \n",
       "3               0.0               1.0               1.0         0.0   \n",
       "4               0.0               0.0               0.0         0.0   \n",
       "5               0.0               0.0               0.0         1.0   \n",
       "...             ...               ...               ...         ...   \n",
       "41369           0.0               0.0               0.0         1.0   \n",
       "41370           0.0               0.0               0.0         1.0   \n",
       "41371           0.0               0.0               0.0         1.0   \n",
       "41372           0.0               0.0               0.0         1.0   \n",
       "41373           0.0               0.0               0.0         1.0   \n",
       "\n",
       "       Status_used  \n",
       "0              0.0  \n",
       "2              1.0  \n",
       "3              0.0  \n",
       "4              1.0  \n",
       "5              0.0  \n",
       "...            ...  \n",
       "41369          0.0  \n",
       "41370          0.0  \n",
       "41371          0.0  \n",
       "41372          0.0  \n",
       "41373          0.0  \n",
       "\n",
       "[34570 rows x 25 columns]"
      ]
     },
     "execution_count": 249,
     "metadata": {},
     "output_type": "execute_result"
    }
   ],
   "source": [
    "df_original = df_linreg\n",
    "df_original"
   ]
  },
  {
   "cell_type": "markdown",
   "metadata": {},
   "source": [
    "### Linear Regression"
   ]
  },
  {
   "cell_type": "markdown",
   "metadata": {},
   "source": [
    "#### Regular Linear Regression"
   ]
  },
  {
   "cell_type": "code",
   "execution_count": 250,
   "id": "a5d877d6-9314-47ff-a33f-21755c2dd167",
   "metadata": {},
   "outputs": [],
   "source": [
    "X = df_linreg.drop(columns='Price', axis=1)\n",
    "y = df_linreg['Price']\n",
    "X_train, X_test, y_train, y_test = train_test_split(X, y, test_size=0.2, random_state=SEED)"
   ]
  },
  {
   "cell_type": "code",
   "execution_count": 251,
   "metadata": {},
   "outputs": [],
   "source": [
    "model = LinearRegression()\n",
    "model.fit(X_train, y_train)\n",
    "\n",
    "y_pred = model.predict(X_test)"
   ]
  },
  {
   "cell_type": "code",
   "execution_count": 252,
   "metadata": {},
   "outputs": [
    {
     "name": "stdout",
     "output_type": "stream",
     "text": [
      "Linear Regression\tMSE\tR^2\tPCC\n",
      " Test set: \t\t343803152.289 \t0.470 \t0.685\n"
     ]
    }
   ],
   "source": [
    "def evaluate(y_true, y_pred):\n",
    "    mse = mean_squared_error(y_true, y_pred)\n",
    "    r2 = r2_score(y_true, y_pred)\n",
    "    pcc, _ = pearsonr(y_true, y_pred)\n",
    "    return mse, r2, pcc\n",
    "\n",
    "print(\"Linear Regression\\tMSE\\tR^2\\tPCC\")\n",
    "print(\" Test set: \\t\\t{:.3f} \\t{:.3f} \\t{:.3f}\".format(*evaluate(y_test, y_pred)))"
   ]
  },
  {
   "cell_type": "markdown",
   "metadata": {},
   "source": [
    "#### Ridge Linear Regression"
   ]
  },
  {
   "cell_type": "code",
   "execution_count": 253,
   "metadata": {},
   "outputs": [],
   "source": [
    "model = Ridge()\n",
    "model.fit(X_train, y_train)\n",
    "\n",
    "y_pred = model.predict(X_test)"
   ]
  },
  {
   "cell_type": "code",
   "execution_count": 254,
   "metadata": {},
   "outputs": [
    {
     "name": "stdout",
     "output_type": "stream",
     "text": [
      "Linear Regression\tMSE\tR^2\tPCC\n",
      " Test set: \t\t343750271.505 \t0.470 \t0.686\n"
     ]
    }
   ],
   "source": [
    "print(\"Linear Regression\\tMSE\\tR^2\\tPCC\")\n",
    "print(\" Test set: \\t\\t{:.3f} \\t{:.3f} \\t{:.3f}\".format(*evaluate(y_test, y_pred)))"
   ]
  },
  {
   "cell_type": "markdown",
   "metadata": {},
   "source": [
    "#### Lasso Linear Regression"
   ]
  },
  {
   "cell_type": "code",
   "execution_count": 255,
   "metadata": {},
   "outputs": [],
   "source": [
    "model = Lasso()\n",
    "model.fit(X_train, y_train)\n",
    "\n",
    "y_pred = model.predict(X_test)"
   ]
  },
  {
   "cell_type": "code",
   "execution_count": 256,
   "metadata": {},
   "outputs": [
    {
     "name": "stdout",
     "output_type": "stream",
     "text": [
      "Linear Regression\tMSE\tR^2\tPCC\n",
      " Test set: \t\t343737500.971 \t0.470 \t0.686\n"
     ]
    }
   ],
   "source": [
    "print(\"Linear Regression\\tMSE\\tR^2\\tPCC\")\n",
    "print(\" Test set: \\t\\t{:.3f} \\t{:.3f} \\t{:.3f}\".format(*evaluate(y_test, y_pred)))"
   ]
  },
  {
   "cell_type": "markdown",
   "id": "75442533-493c-49b2-856c-a2dba230ea73",
   "metadata": {},
   "source": [
    "### Logistic Regression"
   ]
  },
  {
   "cell_type": "code",
   "execution_count": 257,
   "metadata": {},
   "outputs": [
    {
     "name": "stdout",
     "output_type": "stream",
     "text": [
      "Unique labels:\n",
      "  10k: 18\n",
      "  25k: 8\n",
      "  50k: 4\n"
     ]
    }
   ],
   "source": [
    "# Add feature to label each price range\n",
    "# Try different intervals (25k and 50k)\n",
    "\n",
    "df_logreg_all = df_linreg.copy()\n",
    "\n",
    "# Label prices in intervals\n",
    "def priceToLabel(price, interval):\n",
    "    lower = int(price / interval)\n",
    "    return f'${lower*interval}-{(lower+1)*interval-1}'\n",
    "\n",
    "df_logreg_all['Price Range 10k'] = df_logreg_all['Price'].apply(lambda x : priceToLabel(x, 10000))   \n",
    "df_logreg_all['Price Range 25k'] = df_logreg_all['Price'].apply(lambda x : priceToLabel(x, 25000))\n",
    "df_logreg_all['Price Range 50k'] = df_logreg_all['Price'].apply(lambda x : priceToLabel(x, 50000))\n",
    "\n",
    "print('Unique labels:')\n",
    "print('  10k:', len(df_logreg_all['Price Range 10k'].unique()))\n",
    "print('  25k:', len(df_logreg_all['Price Range 25k'].unique()))\n",
    "print('  50k:', len(df_logreg_all['Price Range 50k'].unique()))"
   ]
  },
  {
   "cell_type": "markdown",
   "metadata": {},
   "source": [
    "#### Label in 25k increments"
   ]
  },
  {
   "cell_type": "code",
   "execution_count": 258,
   "metadata": {},
   "outputs": [],
   "source": [
    "# One-hot encode certain columns\n",
    "df_logreg = df_logreg_all.copy()\n",
    "\n",
    "X = df_logreg.drop(columns=['Price Range 10k', 'Price Range 25k', 'Price Range 50k', 'Price'], axis=1)\n",
    "y = df_logreg['Price Range 25k']\n",
    "\n",
    "columns_to_encode_y = ['Price Range 25k']\n",
    "\n",
    "encoder_X, encoder_y = OneHotEncoder(), OneHotEncoder()\n",
    "onehot_encoded_y = encoder_y.fit_transform(df_logreg_all[columns_to_encode_y])\n",
    "onehot_encoded_df_y = pd.DataFrame(onehot_encoded_y.toarray(), columns=encoder_y.get_feature_names_out(columns_to_encode_y))\n",
    "\n",
    "# Merge columns\n",
    "y = onehot_encoded_df_y\n",
    "\n",
    "# Split dataset into train and test\n",
    "X_train, X_test, y_train, y_test = train_test_split(X, y, test_size=0.2, random_state=42)\n",
    "y_train = [np.argmax(elem) for elem in y_train.values]\n",
    "y_test = [np.argmax(elem) for elem in y_test.values]"
   ]
  },
  {
   "cell_type": "code",
   "execution_count": 259,
   "id": "f2f39a86-b29b-480c-98a7-ed46a48a731c",
   "metadata": {},
   "outputs": [],
   "source": [
    "model = LogisticRegression(multi_class='multinomial', solver='lbfgs', max_iter=10000)\n",
    "model.fit(X_train, y_train)\n",
    "\n",
    "y_pred = model.predict(X_test)"
   ]
  },
  {
   "cell_type": "code",
   "execution_count": 260,
   "id": "3e78f91b-6d57-4d82-b6e0-6179ec50c070",
   "metadata": {},
   "outputs": [
    {
     "name": "stdout",
     "output_type": "stream",
     "text": [
      "Logistic Regression\tMSE\tR^2\tPCC\n",
      " Test set: \t\t3.307 \t0.366 \t0.651\n"
     ]
    }
   ],
   "source": [
    "print(\"Logistic Regression\\tMSE\\tR^2\\tPCC\")\n",
    "print(\" Test set: \\t\\t{:.3f} \\t{:.3f} \\t{:.3f}\".format(*evaluate(y_test, y_pred)))"
   ]
  },
  {
   "cell_type": "markdown",
   "metadata": {},
   "source": [
    "#### Label in 10k increments"
   ]
  },
  {
   "cell_type": "code",
   "execution_count": 261,
   "metadata": {},
   "outputs": [],
   "source": [
    "# One-hot encode certain columns\n",
    "df_logreg = df_logreg_all.copy()\n",
    "\n",
    "X = df_logreg.drop(columns=['Price Range 10k', 'Price Range 25k', 'Price Range 50k', 'Price'], axis=1)\n",
    "y = df_logreg['Price Range 10k']\n",
    "\n",
    "columns_to_encode_y = ['Price Range 10k']\n",
    "\n",
    "encoder_X, encoder_y = OneHotEncoder(), OneHotEncoder()\n",
    "onehot_encoded_y = encoder_y.fit_transform(df_logreg_all[columns_to_encode_y])\n",
    "onehot_encoded_df_y = pd.DataFrame(onehot_encoded_y.toarray(), columns=encoder_y.get_feature_names_out(columns_to_encode_y))\n",
    "\n",
    "# Merge columns\n",
    "y = onehot_encoded_df_y\n",
    "\n",
    "# Split dataset into train and test\n",
    "X_train, X_test, y_train, y_test = train_test_split(X, y, test_size=0.2, random_state=42)\n",
    "y_train = [np.argmax(elem) for elem in y_train.values]\n",
    "y_test = [np.argmax(elem) for elem in y_test.values]"
   ]
  },
  {
   "cell_type": "code",
   "execution_count": 262,
   "metadata": {},
   "outputs": [],
   "source": [
    "model = LogisticRegression(multi_class='multinomial', solver='lbfgs', max_iter=10000)\n",
    "model.fit(X_train, y_train)\n",
    "\n",
    "y_pred = model.predict(X_test)"
   ]
  },
  {
   "cell_type": "code",
   "execution_count": 263,
   "metadata": {},
   "outputs": [
    {
     "name": "stdout",
     "output_type": "stream",
     "text": [
      "Logistic Regression\tMSE\tR^2\tPCC\n",
      " Test set: \t\t10.922 \t0.409 \t0.671\n"
     ]
    }
   ],
   "source": [
    "print(\"Logistic Regression\\tMSE\\tR^2\\tPCC\")\n",
    "print(\" Test set: \\t\\t{:.3f} \\t{:.3f} \\t{:.3f}\".format(*evaluate(y_test, y_pred)))"
   ]
  },
  {
   "cell_type": "markdown",
   "id": "13d0efa2-2891-46bb-b4e2-a22a169ed97b",
   "metadata": {},
   "source": [
    "### XGBoost Decision Tree"
   ]
  },
  {
   "cell_type": "code",
   "execution_count": 264,
   "id": "29d89352-0c12-4cca-9295-e6959b4f1646",
   "metadata": {},
   "outputs": [],
   "source": [
    "df_xgb = df_with_features.copy()\n",
    "\n",
    "# Filter Outliers\n",
    "df_xgb = df_xgb[df_xgb['Price'] <= 175000]\n",
    "df_xgb = df_xgb[df_xgb['Age'] <= 15]\n",
    "df_xgb = df_xgb[df_xgb['Age'] <= 200000]\n",
    "\n",
    "df_xgb.replace([np.inf, -np.inf], np.nan, inplace=True)\n",
    "df_xgb = df_xgb.dropna()"
   ]
  },
  {
   "cell_type": "code",
   "execution_count": 265,
   "id": "e7c7bf8c-b05e-442b-ad7d-54e14eafc9c3",
   "metadata": {},
   "outputs": [
    {
     "data": {
      "text/html": [
       "<div>\n",
       "<style scoped>\n",
       "    .dataframe tbody tr th:only-of-type {\n",
       "        vertical-align: middle;\n",
       "    }\n",
       "\n",
       "    .dataframe tbody tr th {\n",
       "        vertical-align: top;\n",
       "    }\n",
       "\n",
       "    .dataframe thead th {\n",
       "        text-align: right;\n",
       "    }\n",
       "</style>\n",
       "<table border=\"1\" class=\"dataframe\">\n",
       "  <thead>\n",
       "    <tr style=\"text-align: right;\">\n",
       "      <th></th>\n",
       "      <th>Brand</th>\n",
       "      <th>Model</th>\n",
       "      <th>Status</th>\n",
       "      <th>Mileage</th>\n",
       "      <th>Age</th>\n",
       "      <th>Yearly_Miles</th>\n",
       "    </tr>\n",
       "  </thead>\n",
       "  <tbody>\n",
       "    <tr>\n",
       "      <th>26421</th>\n",
       "      <td>9</td>\n",
       "      <td>152</td>\n",
       "      <td>1</td>\n",
       "      <td>0.0</td>\n",
       "      <td>1</td>\n",
       "      <td>0.00</td>\n",
       "    </tr>\n",
       "    <tr>\n",
       "      <th>11775</th>\n",
       "      <td>5</td>\n",
       "      <td>200</td>\n",
       "      <td>1</td>\n",
       "      <td>0.0</td>\n",
       "      <td>1</td>\n",
       "      <td>0.00</td>\n",
       "    </tr>\n",
       "    <tr>\n",
       "      <th>16559</th>\n",
       "      <td>6</td>\n",
       "      <td>262</td>\n",
       "      <td>1</td>\n",
       "      <td>0.0</td>\n",
       "      <td>1</td>\n",
       "      <td>0.00</td>\n",
       "    </tr>\n",
       "    <tr>\n",
       "      <th>18091</th>\n",
       "      <td>3</td>\n",
       "      <td>263</td>\n",
       "      <td>2</td>\n",
       "      <td>60326.0</td>\n",
       "      <td>11</td>\n",
       "      <td>5484.18</td>\n",
       "    </tr>\n",
       "    <tr>\n",
       "      <th>5202</th>\n",
       "      <td>10</td>\n",
       "      <td>258</td>\n",
       "      <td>0</td>\n",
       "      <td>29704.0</td>\n",
       "      <td>2</td>\n",
       "      <td>14852.00</td>\n",
       "    </tr>\n",
       "    <tr>\n",
       "      <th>...</th>\n",
       "      <td>...</td>\n",
       "      <td>...</td>\n",
       "      <td>...</td>\n",
       "      <td>...</td>\n",
       "      <td>...</td>\n",
       "      <td>...</td>\n",
       "    </tr>\n",
       "    <tr>\n",
       "      <th>20458</th>\n",
       "      <td>3</td>\n",
       "      <td>80</td>\n",
       "      <td>2</td>\n",
       "      <td>69672.0</td>\n",
       "      <td>7</td>\n",
       "      <td>9953.14</td>\n",
       "    </tr>\n",
       "    <tr>\n",
       "      <th>7409</th>\n",
       "      <td>4</td>\n",
       "      <td>74</td>\n",
       "      <td>1</td>\n",
       "      <td>0.0</td>\n",
       "      <td>1</td>\n",
       "      <td>0.00</td>\n",
       "    </tr>\n",
       "    <tr>\n",
       "      <th>13501</th>\n",
       "      <td>0</td>\n",
       "      <td>242</td>\n",
       "      <td>1</td>\n",
       "      <td>0.0</td>\n",
       "      <td>1</td>\n",
       "      <td>0.00</td>\n",
       "    </tr>\n",
       "    <tr>\n",
       "      <th>998</th>\n",
       "      <td>5</td>\n",
       "      <td>60</td>\n",
       "      <td>1</td>\n",
       "      <td>0.0</td>\n",
       "      <td>1</td>\n",
       "      <td>0.00</td>\n",
       "    </tr>\n",
       "    <tr>\n",
       "      <th>19139</th>\n",
       "      <td>16</td>\n",
       "      <td>288</td>\n",
       "      <td>1</td>\n",
       "      <td>0.0</td>\n",
       "      <td>1</td>\n",
       "      <td>0.00</td>\n",
       "    </tr>\n",
       "  </tbody>\n",
       "</table>\n",
       "<p>26955 rows × 6 columns</p>\n",
       "</div>"
      ],
      "text/plain": [
       "       Brand  Model  Status  Mileage  Age  Yearly_Miles\n",
       "26421      9    152       1      0.0    1          0.00\n",
       "11775      5    200       1      0.0    1          0.00\n",
       "16559      6    262       1      0.0    1          0.00\n",
       "18091      3    263       2  60326.0   11       5484.18\n",
       "5202      10    258       0  29704.0    2      14852.00\n",
       "...      ...    ...     ...      ...  ...           ...\n",
       "20458      3     80       2  69672.0    7       9953.14\n",
       "7409       4     74       1      0.0    1          0.00\n",
       "13501      0    242       1      0.0    1          0.00\n",
       "998        5     60       1      0.0    1          0.00\n",
       "19139     16    288       1      0.0    1          0.00\n",
       "\n",
       "[26955 rows x 6 columns]"
      ]
     },
     "execution_count": 265,
     "metadata": {},
     "output_type": "execute_result"
    }
   ],
   "source": [
    "label_encoder = LabelEncoder()\n",
    "\n",
    "# save og categorical variables \n",
    "X_Brand = df_xgb['Brand']\n",
    "X_Model = df_xgb['Model']\n",
    "X_Status = df_xgb['Status']\n",
    "Y_PriceRange = df_xgb['PriceRange']\n",
    "\n",
    "# label encode the categorical variables\n",
    "df_xgb[\"Brand\"] = label_encoder.fit_transform(df_xgb[\"Brand\"])\n",
    "df_xgb[\"Model\"] = label_encoder.fit_transform(df_xgb[\"Model\"])\n",
    "df_xgb[\"Status\"] = label_encoder.fit_transform(df_xgb[\"Status\"])\n",
    "y = label_encoder.fit_transform(Y_PriceRange)\n",
    "\n",
    "X = df_xgb.drop(columns=['PriceRange','Dealer', 'Price', 'Year'])\n",
    "\n",
    "\n",
    "X_train, X_test, y_train, y_test = train_test_split(X, y, test_size=0.2, random_state=SEED)\n",
    "X_train"
   ]
  },
  {
   "cell_type": "code",
   "execution_count": 266,
   "id": "c8e7206c-6356-42d8-8e7c-a9b87138dac4",
   "metadata": {},
   "outputs": [
    {
     "data": {
      "text/plain": [
       "'TAKES 10 MINUETS TO RUN'"
      ]
     },
     "execution_count": 266,
     "metadata": {},
     "output_type": "execute_result"
    }
   ],
   "source": [
    "'''TAKES 10 MINUETS TO RUN'''\n",
    "\n",
    "# param_grid = {\n",
    "#     'n_estimators': [175, 225, 150],\n",
    "#     'max_depth': [11, 13, 15],\n",
    "#     'learning_rate': [0.15, 0.1, 0.8]\n",
    "# }\n",
    "\n",
    "# xgb_model = xgb.XGBClassifier(random_state=SEED)\n",
    "# grid_search = GridSearchCV(estimator=xgb_model, param_grid=param_grid, scoring='accuracy', cv=3)\n",
    "\n",
    "# grid_search.fit(X_train, y_train)\n",
    "# print(\"Best Parameters:\", grid_search.best_params_)\n",
    "# print(\"Best Accuracy:\", grid_search.best_score_)"
   ]
  },
  {
   "cell_type": "code",
   "execution_count": 267,
   "id": "7cb0ff75-3d70-474f-92b8-f8406c8d51cc",
   "metadata": {},
   "outputs": [
    {
     "name": "stdout",
     "output_type": "stream",
     "text": [
      "Accuracy: 0.51253895236682\n",
      "Pred_proba: 0.51253895236682\n"
     ]
    }
   ],
   "source": [
    "xgb_model = xgb.XGBClassifier(\n",
    "    n_estimators=150,  \n",
    "    max_depth=9,  \n",
    "    learning_rate=0.1, \n",
    "    random_state=SEED\n",
    ")\n",
    "\n",
    "xgb_fitted = xgb_model.fit(X_train, y_train)\n",
    "y_pred = xgb_fitted.predict(X_test)\n",
    "y_pred_proba = xgb_fitted.predict_proba(X_test)[:, 1]\n",
    "accuracy = accuracy_score(y_test, y_pred)\n",
    "print(\"Accuracy:\", accuracy)\n",
    "print(\"Pred_proba:\", accuracy)"
   ]
  },
  {
   "cell_type": "code",
   "execution_count": 268,
   "id": "29fc2c4f-49ef-4710-a968-7598608a21ce",
   "metadata": {},
   "outputs": [
    {
     "name": "stdout",
     "output_type": "stream",
     "text": [
      "              precision    recall  f1-score   support\n",
      "\n",
      "           0       0.72      0.65      0.68       141\n",
      "           1       0.74      0.74      0.74       582\n",
      "           2       0.30      0.43      0.36        75\n",
      "           3       0.55      0.34      0.42        65\n",
      "           4       0.28      0.19      0.23        26\n",
      "           5       0.36      0.19      0.24        27\n",
      "           6       0.25      0.14      0.18        14\n",
      "           7       0.25      0.25      0.25        16\n",
      "           8       0.58      0.35      0.44        20\n",
      "           9       0.00      0.00      0.00         5\n",
      "          10       0.63      0.68      0.65       972\n",
      "          11       0.58      0.58      0.58      1163\n",
      "          12       0.52      0.56      0.54      1240\n",
      "          13       0.39      0.39      0.39       907\n",
      "          14       0.36      0.37      0.36       628\n",
      "          15       0.34      0.43      0.38       410\n",
      "          16       0.34      0.16      0.22       291\n",
      "          17       0.27      0.06      0.10       157\n",
      "\n",
      "    accuracy                           0.51      6739\n",
      "   macro avg       0.41      0.36      0.38      6739\n",
      "weighted avg       0.51      0.51      0.51      6739\n",
      "\n"
     ]
    },
    {
     "name": "stderr",
     "output_type": "stream",
     "text": [
      "c:\\Users\\nadee\\AppData\\Local\\Programs\\Python\\Python310\\lib\\site-packages\\sklearn\\metrics\\_classification.py:1344: UndefinedMetricWarning: Precision and F-score are ill-defined and being set to 0.0 in labels with no predicted samples. Use `zero_division` parameter to control this behavior.\n",
      "  _warn_prf(average, modifier, msg_start, len(result))\n",
      "c:\\Users\\nadee\\AppData\\Local\\Programs\\Python\\Python310\\lib\\site-packages\\sklearn\\metrics\\_classification.py:1344: UndefinedMetricWarning: Precision and F-score are ill-defined and being set to 0.0 in labels with no predicted samples. Use `zero_division` parameter to control this behavior.\n",
      "  _warn_prf(average, modifier, msg_start, len(result))\n",
      "c:\\Users\\nadee\\AppData\\Local\\Programs\\Python\\Python310\\lib\\site-packages\\sklearn\\metrics\\_classification.py:1344: UndefinedMetricWarning: Precision and F-score are ill-defined and being set to 0.0 in labels with no predicted samples. Use `zero_division` parameter to control this behavior.\n",
      "  _warn_prf(average, modifier, msg_start, len(result))\n"
     ]
    },
    {
     "data": {
      "text/plain": [
       "<Figure size 3000x2400 with 0 Axes>"
      ]
     },
     "metadata": {},
     "output_type": "display_data"
    },
    {
     "data": {
      "image/png": "[encoded data removed]",
      "text/plain": [
       "<Figure size 640x480 with 1 Axes>"
      ]
     },
     "metadata": {},
     "output_type": "display_data"
    }
   ],
   "source": [
    "from xgboost import plot_importance\n",
    "\n",
    "f = plt.figure(figsize=[30,24])\n",
    "matplotlib.rcParams.update({'font.size': 10})\n",
    "plot_importance(xgb_fitted, max_num_features=20)\n",
    "print(classification_report(y_test,y_pred))\n",
    "\n",
    "y_pred_proba = xgb_fitted.predict_proba(X_test)[:, 1]"
   ]
  },
  {
   "cell_type": "markdown",
   "id": "f55d3e4b-eed0-4c3b-9710-423e53a51a7b",
   "metadata": {},
   "source": [
    "### Multi-layer Perceptron regressor"
   ]
  },
  {
   "cell_type": "markdown",
   "metadata": {},
   "source": [
    "#### Using Labels for Categorical Data"
   ]
  },
  {
   "cell_type": "code",
   "execution_count": 269,
   "id": "c66cec5c-8a4a-4be9-ae3b-4a9b93850076",
   "metadata": {},
   "outputs": [],
   "source": [
    "from sklearn.neural_network import MLPRegressor\n",
    "\n",
    "# Network has 3 hidden layers with 50, 5, and 2 neurons\n",
    "regr_model = MLPRegressor(random_state=SEED, max_iter=1000, early_stopping=True, hidden_layer_sizes=(30,5,2))\n",
    "regr_fitted = regr_model.fit(X_train, y_train)"
   ]
  },
  {
   "cell_type": "code",
   "execution_count": 270,
   "id": "a1cc81cd-d503-404a-918a-584fff2bb104",
   "metadata": {},
   "outputs": [
    {
     "name": "stdout",
     "output_type": "stream",
     "text": [
      "Multi-layer Perceptron regressor\tMSE\tR^2\tPCC\n",
      " Test set: \t\t\t\t15.107 \t0.147 \t0.384\n"
     ]
    }
   ],
   "source": [
    "y_pred = regr_fitted.predict(X_test)\n",
    "evaluate(y_test, y_pred)\n",
    "print(\"Multi-layer Perceptron regressor\\tMSE\\tR^2\\tPCC\")\n",
    "print(\" Test set: \\t\\t\\t\\t{:.3f} \\t{:.3f} \\t{:.3f}\".format(*evaluate(y_test, y_pred)))"
   ]
  },
  {
   "cell_type": "markdown",
   "metadata": {},
   "source": [
    "#### Using One-hot Encoding for Categorical Data"
   ]
  },
  {
   "cell_type": "code",
   "execution_count": 271,
   "metadata": {},
   "outputs": [],
   "source": [
    "X = df_linreg.drop(columns='Price', axis=1)\n",
    "y = df_linreg['Price']\n",
    "X_train, X_test, y_train, y_test = train_test_split(X, y, test_size=0.2, random_state=SEED)"
   ]
  },
  {
   "cell_type": "code",
   "execution_count": 272,
   "metadata": {},
   "outputs": [],
   "source": [
    "regr_model = MLPRegressor(random_state=SEED, max_iter=1000, early_stopping=True, hidden_layer_sizes=(30,5,2))\n",
    "regr_fitted = regr_model.fit(X_train, y_train)"
   ]
  },
  {
   "cell_type": "code",
   "execution_count": 273,
   "metadata": {},
   "outputs": [
    {
     "name": "stdout",
     "output_type": "stream",
     "text": [
      "Multi-layer Perceptron regressor\tMSE\tR^2\tPCC\n",
      " Test set: \t\t\t\t2897005020.966 \t-3.468 \tnan\n"
     ]
    },
    {
     "name": "stderr",
     "output_type": "stream",
     "text": [
      "c:\\Users\\nadee\\AppData\\Local\\Programs\\Python\\Python310\\lib\\site-packages\\scipy\\stats\\_stats_py.py:4424: ConstantInputWarning: An input array is constant; the correlation coefficient is not defined.\n",
      "  warnings.warn(stats.ConstantInputWarning(msg))\n",
      "c:\\Users\\nadee\\AppData\\Local\\Programs\\Python\\Python310\\lib\\site-packages\\scipy\\stats\\_stats_py.py:4424: ConstantInputWarning: An input array is constant; the correlation coefficient is not defined.\n",
      "  warnings.warn(stats.ConstantInputWarning(msg))\n"
     ]
    }
   ],
   "source": [
    "y_pred = regr_fitted.predict(X_test)\n",
    "evaluate(y_test, y_pred)\n",
    "print(\"Multi-layer Perceptron regressor\\tMSE\\tR^2\\tPCC\")\n",
    "print(\" Test set: \\t\\t\\t\\t{:.3f} \\t{:.3f} \\t{:.3f}\".format(*evaluate(y_test, y_pred)))"
   ]
  }
 ],
 "metadata": {
  "kernelspec": {
   "display_name": "Python 3 (ipykernel)",
   "language": "python",
   "name": "python3"
  },
  "language_info": {
   "codemirror_mode": {
    "name": "ipython",
    "version": 3
   },
   "file_extension": ".py",
   "mimetype": "text/x-python",
   "name": "python",
   "nbconvert_exporter": "python",
   "pygments_lexer": "ipython3",
   "version": "3.10.4"
  }
 },
 "nbformat": 4,
 "nbformat_minor": 5
}
